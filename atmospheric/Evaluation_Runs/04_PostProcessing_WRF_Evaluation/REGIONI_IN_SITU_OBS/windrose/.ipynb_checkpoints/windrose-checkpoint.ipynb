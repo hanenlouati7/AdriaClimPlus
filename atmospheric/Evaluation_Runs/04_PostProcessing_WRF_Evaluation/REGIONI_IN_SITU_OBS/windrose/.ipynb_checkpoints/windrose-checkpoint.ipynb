{
 "cells": [
  {
   "cell_type": "code",
   "execution_count": 1,
   "id": "c23bcb80-b511-463f-a3b0-e5abec9e02e1",
   "metadata": {},
   "outputs": [
    {
     "name": "stdin",
     "output_type": "stream",
     "text": [
      "Once deleted, variables cannot be recovered. Proceed (y/[n])?  y\n"
     ]
    }
   ],
   "source": [
    "%reset"
   ]
  },
  {
   "cell_type": "code",
   "execution_count": 2,
   "id": "66f1a519-2df4-4cf0-9f31-4b153abb606a",
   "metadata": {},
   "outputs": [
    {
     "data": {
      "text/plain": [
       "'\\ncd /work/cmcc/vr25423/Project/AdriaClimPlus/data/insitu/REGIONI_IN_SITU_OBS\\n\\nIn raw_data/EMILIA_ROMAGNA/DATA_STATIONS_EMILIA_ROMAGNA_1989_2017_REF_03_12_2024/final_station_summary.csv, check the station name and staiton id.\\n6030,Piacenza urbana,URBANE,9.679647000000001,45.054924  -> 6030 is the station id\\n\\ngrep -ir \",6030,\" raw_data/EMILIA_ROMAGNA/DATA_STATIONS_EMILIA_ROMAGNA_1989_2017_REF_03_12_2024/urbane_wind_vel_hourly.txt >&PIACENZA_wind_vel_hourly.txt&\\ngrep -ir \",6030,\" raw_data/EMILIA_ROMAGNA/wind_dir_10min_EMILIA_ROMAGNA_1987_2023_REF_14_02_2025/urbane_wind_dir_10min.txt >&PIACENZA_wind_dir_10min.txt&\\n\\nmv PIACENZA_wind_vel_hourly.txt processed/EMILIA_ROMAGNA\\nmv PIACENZA_wind_dir_10min.txt processed/EMILIA_ROMAGNA\\n\\n# Use this script to update the data with missing values=-99999 from 1990 to 2020\\n/users_home/cmcc/vr25423/scripts/WRF_Evaluation/missing_data.ipynb\\n'"
      ]
     },
     "execution_count": 2,
     "metadata": {},
     "output_type": "execute_result"
    }
   ],
   "source": [
    "### Script to calculate windroses ###\n",
    "#Follow this procedure to update the insitu data (Example: Emilia Romagna in /work/cmcc/vr25423/Project/AdriaClimPlus/data/insitu/REGIONI_IN_SITU_OBS/)\n",
    "'''\n",
    "cd /work/cmcc/vr25423/Project/AdriaClimPlus/data/insitu/REGIONI_IN_SITU_OBS\n",
    "\n",
    "In raw_data/EMILIA_ROMAGNA/DATA_STATIONS_EMILIA_ROMAGNA_1989_2017_REF_03_12_2024/final_station_summary.csv, check the station name and staiton id.\n",
    "6030,Piacenza urbana,URBANE,9.679647000000001,45.054924  -> 6030 is the station id\n",
    "\n",
    "grep -ir \",6030,\" raw_data/EMILIA_ROMAGNA/DATA_STATIONS_EMILIA_ROMAGNA_1989_2017_REF_03_12_2024/urbane_wind_vel_hourly.txt >&PIACENZA_wind_vel_hourly.txt&\n",
    "grep -ir \",6030,\" raw_data/EMILIA_ROMAGNA/wind_dir_10min_EMILIA_ROMAGNA_1987_2023_REF_14_02_2025/urbane_wind_dir_10min.txt >&PIACENZA_wind_dir_10min.txt&\n",
    "\n",
    "mv PIACENZA_wind_vel_hourly.txt processed/EMILIA_ROMAGNA\n",
    "mv PIACENZA_wind_dir_10min.txt processed/EMILIA_ROMAGNA\n",
    "\n",
    "# Use this script to update the data with missing values=-99999 from 1990 to 2020\n",
    "/users_home/cmcc/vr25423/scripts/WRF_Evaluation/missing_data.ipynb\n",
    "'''"
   ]
  },
  {
   "cell_type": "code",
   "execution_count": 3,
   "id": "f884582e-72fd-48c8-b356-a22a88eaa093",
   "metadata": {},
   "outputs": [
    {
     "data": {
      "text/plain": [
       "'\\nstation_EMILIA_ROMAGNA_Ravenna.txt\\nstation_EMILIA_ROMAGNA_Ravenna.txt\\nstation_EMILIA_ROMAGNA_Ravenna.txt\\nstation_EMILIA_ROMAGNA_Ravenna.txt\\nstation_EMILIA_ROMAGNA_Ravenna.txt\\nstation_EMILIA_ROMAGNA_PIACENZA.txt\\nstation_EMILIA_ROMAGNA_Ravenna.txt\\nstation_EMILIA_ROMAGNA_Ravenna.txt\\n'"
      ]
     },
     "execution_count": 3,
     "metadata": {},
     "output_type": "execute_result"
    }
   ],
   "source": [
    "'''\n",
    "station_EMILIA_ROMAGNA_Ravenna.txt\n",
    "station_EMILIA_ROMAGNA_Ravenna.txt\n",
    "station_EMILIA_ROMAGNA_Ravenna.txt\n",
    "station_EMILIA_ROMAGNA_Ravenna.txt\n",
    "station_EMILIA_ROMAGNA_Ravenna.txt\n",
    "station_EMILIA_ROMAGNA_PIACENZA.txt\n",
    "station_EMILIA_ROMAGNA_Ravenna.txt\n",
    "station_EMILIA_ROMAGNA_Ravenna.txt\n",
    "'''"
   ]
  },
  {
   "cell_type": "code",
   "execution_count": 4,
   "id": "3629ed71-e040-4855-b062-136f6d0ea4d8",
   "metadata": {},
   "outputs": [],
   "source": [
    "\n",
    "#In this path /work/cmcc/vr25423/Project/AdriaClimPlus/data/insitu/REGIONI_IN_SITU_OBS/LOCALI, grep only the required station data.\n",
    "# The raw station data is in the following location: /work/cmcc/vr25423/Project/AdriaClimPlus/data/insitu/REGIONI_IN_SITU_OBS/raw_data/DATA_STATIONS_EMILIA_ROMAGNA_1989_2017_REF_03_12_2024\n",
    "# Use this script to update the data with missing values=-99999 from 1990 to 2020 in /users_home/cmcc/vr25423/scripts/WRF_Evaluation/missing_data.ipynb\n",
    "############################################\n",
    "import numpy as np\n",
    "import netCDF4 as nc\n",
    "import matplotlib.pyplot as plt\n",
    "from windrose import WindroseAxes\n",
    "from windrose import plot_windrose\n",
    "import matplotlib.cm as cm\n",
    "import os\n",
    "#from metpy.calc import wind_direction\n",
    "#import geopy.distance\n",
    "#from shapely.geometry import Point, MultiPoint\n",
    "#from shapely.ops import nearest_points\n",
    "############################################"
   ]
  },
  {
   "cell_type": "code",
   "execution_count": 5,
   "id": "4fe2367b-722d-490f-8969-9b5e7f30000e",
   "metadata": {},
   "outputs": [],
   "source": [
    "name_exp = \"EMILIA_ROMAGNA_Ravenna\"\n",
    "\n",
    "base_path_insitu = '/work/cmcc/vr25423/Project/AdriaClimPlus/data/insitu/REGIONI_IN_SITU_OBS/processed/EMILIA_ROMAGNA'\n",
    "base_path_wrf = '/work/cmcc/vr25423/Project/AdriaClimPlus/evaluation_run_30yrs_ERA5/WRF-WRF-Hydro/1990_2020/pp'\n",
    "path_list_stations = base_path_insitu+\"/station_EMILIA_ROMAGNA_Ravenna.txt\""
   ]
  },
  {
   "cell_type": "code",
   "execution_count": 6,
   "id": "80709301-14ab-49d5-8425-f430f3f54dd5",
   "metadata": {},
   "outputs": [
    {
     "name": "stdout",
     "output_type": "stream",
     "text": [
      "Ravenna_URBANA\n",
      "44.414999\n",
      "12.200032\n",
      "1h\n",
      "Working on station  Ravenna_URBANA\n",
      "LATITUDE station:  44.414999\n",
      "LONGITUDE station:  12.200032\n",
      "Frequency for this station:  1h\n"
     ]
    }
   ],
   "source": [
    "town_name=np.loadtxt(path_list_stations, usecols=0, dtype='str')\n",
    "lat_town=np.loadtxt(path_list_stations, usecols=2, dtype='float')\n",
    "lon_town=np.loadtxt(path_list_stations, usecols=3, dtype='float')\n",
    "freq_town=np.loadtxt(path_list_stations, usecols=4, dtype='str')\n",
    "\n",
    "print (town_name)\n",
    "print (lat_town)\n",
    "print (lon_town)\n",
    "print (freq_town)\n",
    "\n",
    "print ('Working on station ', town_name)\n",
    "print ('LATITUDE station: ', lat_town)\n",
    "print ('LONGITUDE station: ', lon_town)\n",
    "print ('Frequency for this station: ', freq_town)\n"
   ]
  },
  {
   "cell_type": "code",
   "execution_count": 7,
   "id": "0f13ff98-7ed2-4637-95bc-419db051b4ca",
   "metadata": {},
   "outputs": [
    {
     "name": "stdout",
     "output_type": "stream",
     "text": [
      "Number of data available:  118785\n",
      "\n"
     ]
    }
   ],
   "source": [
    "# preparing vectors that will contain obs data \n",
    "wind_dir_station = []\n",
    "wind_module_station = []\n",
    "\n",
    "#-- import the files with obs wind speed/direction data \n",
    "path_wind_dir_station = base_path_insitu+\"/Ravenna_wind_dir_hourly_Filled.txt\"\n",
    "path_wind_module_station = base_path_insitu+\"/Ravenna_wind_vel_hourly_Filled.txt\"\n",
    "\n",
    "wind_dir_station = np.loadtxt(path_wind_dir_station, usecols=0, dtype='float')\n",
    "wind_module_station = np.loadtxt(path_wind_module_station, usecols=0, dtype='float')\n",
    "\n",
    "wind_dir_station [wind_dir_station == -99999.00] = np.nan\n",
    "wind_module_station [wind_module_station == -99999.00] = np.nan\n",
    "\n",
    "np.set_printoptions(threshold=np.inf)\n",
    "\n",
    "print ('Number of data available: ', np.count_nonzero(~np.isnan(wind_dir_station)))\n",
    "print ('')\n"
   ]
  },
  {
   "cell_type": "code",
   "execution_count": 8,
   "id": "a8a4c76d-b611-4cb6-b10d-7e9568dcccf0",
   "metadata": {},
   "outputs": [
    {
     "name": "stdout",
     "output_type": "stream",
     "text": [
      "This station has values every 1 hour\n"
     ]
    }
   ],
   "source": [
    "# select just the data for which we have WRF+WRFHYDRO values (00:00, 06:00, 12:00, 18:00) \n",
    "data_station_direction = []\n",
    "data_station_module = []\n",
    "if (freq_town == '30min'):\n",
    "    print ('This station has values every 30 mins')\n",
    "    for counter in range (0,len(wind_dir_station), 12):\n",
    "        data_station_direction.append (wind_dir_station[counter])\n",
    "        data_station_module.append (wind_module_station[counter])\n",
    "elif (freq_town == '1h'):\n",
    "    print ('This station has values every 1 hour')\n",
    "    for counter in range (0,len(wind_dir_station), 6):\n",
    "        data_station_direction.append (wind_dir_station[counter])\n",
    "        data_station_module.append (wind_module_station[counter])\n",
    "elif (freq_town == '15min'):\n",
    "    print ('This station has values every 15 mins')\n",
    "    for counter in range (0,len(wind_dir_station), 24):\n",
    "        data_station_direction.append (wind_dir_station[counter])\n",
    "        data_station_module.append (wind_module_station[counter])"
   ]
  },
  {
   "cell_type": "code",
   "execution_count": 9,
   "id": "869657ad-bc90-4c25-83e6-4c726325a7ea",
   "metadata": {},
   "outputs": [],
   "source": [
    "# UPLOADING WRF+WRF_HYDRO\n",
    "path_wrf_wrfhydro_vn = base_path_wrf+'/vn.nc'\n",
    "path_wrf_wrfhydro_vdir = base_path_wrf+'/vdir.nc'\n",
    "\n",
    "#-- read the file\n",
    "ds_wrf_vn = nc.Dataset(path_wrf_wrfhydro_vn, 'r')\n",
    "ds_wrf_vdir = nc.Dataset(path_wrf_wrfhydro_vdir, 'r')\n",
    "#-- read the variables from the files\n",
    "lat_wrf_extr = ds_wrf_vn.variables['XLAT'][:,:]\n",
    "lon_wrf_extr = ds_wrf_vn.variables['XLONG'][:,:]\n",
    "lat_wrf_1D = ds_wrf_vn.variables['XLAT'][:,0]\n",
    "lon_wrf_1D = ds_wrf_vn.variables['XLONG'][0,:]"
   ]
  },
  {
   "cell_type": "code",
   "execution_count": 10,
   "id": "7b560713-2388-4779-90bd-c4dc9574147f",
   "metadata": {},
   "outputs": [
    {
     "name": "stdout",
     "output_type": "stream",
     "text": [
      "Latitude for WRF:  44.405624\n",
      "Longitude for WRF:  12.197876\n"
     ]
    }
   ],
   "source": [
    "# find nearest point in WRF and ERA5land array\n",
    "lat_wrf = lat_wrf_extr.flatten()\n",
    "lon_wrf = lon_wrf_extr.flatten()\n",
    "\n",
    "distances_wrf = (lat_wrf-lat_town)**2 + (lon_wrf-lon_town)**2\n",
    "idx_wrf = np.argmin (distances_wrf)\n",
    "\n",
    "print ('Latitude for WRF: ', lat_wrf[idx_wrf])\n",
    "print ('Longitude for WRF: ', lon_wrf[idx_wrf])\n",
    "\n",
    "index_lat_wrf = np.array (np.where (lat_wrf_1D == lat_wrf[idx_wrf]))[0]\n",
    "index_lon_wrf = np.array (np.where (lon_wrf_1D == lon_wrf[idx_wrf]))[0]"
   ]
  },
  {
   "cell_type": "code",
   "execution_count": null,
   "id": "57dfb014-b829-425b-996f-5f1903994a8a",
   "metadata": {},
   "outputs": [],
   "source": [
    "# extract wind speed module and components for WRF\n",
    "wind_module_wrf_at_station = np.array(ds_wrf_vn.variables['vn'][:,index_lat_wrf,index_lon_wrf].ravel())\n",
    "wind_direction_wrf_at_station = np.degrees(ds_wrf_vdir.variables['vdir'][:,index_lat_wrf,index_lon_wrf].ravel())"
   ]
  },
  {
   "cell_type": "code",
   "execution_count": null,
   "id": "ddb40622-97b8-4b77-8009-7e4f325b130f",
   "metadata": {},
   "outputs": [],
   "source": [
    "### Making the number usable observations same for both wind speed and direction.\n",
    "data_station_direction = np.where(np.isnan(data_station_module), np.nan, data_station_direction)\n",
    "data_station_module = np.where(np.isnan(data_station_direction), np.nan, data_station_module)"
   ]
  },
  {
   "cell_type": "code",
   "execution_count": null,
   "id": "2906aa53-8466-4720-a0e4-c5001fc9deea",
   "metadata": {},
   "outputs": [],
   "source": [
    "# Making number of observations and simulated data same\n",
    "wind_module_wrf_at_station_m = np.where(np.isnan(data_station_module), np.nan, wind_module_wrf_at_station)\n",
    "wind_direction_wrf_at_station_m = np.where(np.isnan(data_station_direction), np.nan, wind_direction_wrf_at_station)"
   ]
  },
  {
   "cell_type": "code",
   "execution_count": null,
   "id": "cd4a096c-026c-41bf-8ce0-01e191447aa2",
   "metadata": {},
   "outputs": [],
   "source": [
    "#converting wrf wind direction between -180 and 180 to 0 and 360 degrees.\n",
    "wind_direction_wrf_at_station_m_0to360 = wind_direction_wrf_at_station_m + 180"
   ]
  },
  {
   "cell_type": "code",
   "execution_count": null,
   "id": "8b274193-ca65-47d9-8f46-8ebdba3d312a",
   "metadata": {},
   "outputs": [],
   "source": [
    "data_station_direction = data_station_direction[~np.isnan(data_station_direction)]\n",
    "data_station_module = data_station_module[~np.isnan(data_station_module)]"
   ]
  },
  {
   "cell_type": "code",
   "execution_count": null,
   "id": "6b1b7522-8a7a-4cd3-9911-6e43265e7cc2",
   "metadata": {},
   "outputs": [],
   "source": [
    "wind_direction_wrf_at_station_m_0to360 = wind_direction_wrf_at_station_m_0to360[~np.isnan(wind_direction_wrf_at_station_m_0to360)]\n",
    "wind_module_wrf_at_station_m = wind_module_wrf_at_station_m[~np.isnan(wind_module_wrf_at_station_m)]"
   ]
  },
  {
   "cell_type": "code",
   "execution_count": null,
   "id": "cad38f7e-9db6-47c2-b3dd-ddcf40ebbcbe",
   "metadata": {},
   "outputs": [],
   "source": [
    "### Plot insitu ###\n",
    "ax = WindroseAxes.from_ax()\n",
    "windrose_plot = ax.bar (data_station_direction, data_station_module, normed=True, opening=0.8, nsector=22, bins=np.arange(0,10,2), cmap=cm.jet, edgecolor=\"white\")\n",
    "\n",
    "#ax.set_legend(title_fontsize=14, fontsize=14, loc=\"upper left\", bbox_to_anchor=(1.05, 1))\n",
    "\n",
    "ax.legend(fontsize=14, loc=\"upper left\", bbox_to_anchor=(1.05, 1))\n",
    "\n",
    "r = np.arange(0, 16, 2)\n",
    "ax.tick_params(axis=\"x\", labelsize=14)\n",
    "ax.set_yticks(r)\n",
    "\n",
    "rrr = []\n",
    "#for el in r:\n",
    "#    rrr.append(\"{NUM}%\".format(NUM=el))\n",
    "#ax.set_yticklabels(rrr, fontsize=14)\n",
    "plt.title(str(town_name)+', WRF', fontsize=16)\n",
    "\n",
    "for i, r_value in enumerate(r):\n",
    "    ax.text(4.5*np.pi/4, r_value * 1.05, f\"{r_value}%\", horizontalalignment='center', verticalalignment='center', fontsize=14, color='black')\n",
    "\n",
    "plt.title(str(town_name)+', IN-SITU OBSERVATIONS', fontsize=16)\n",
    "plt.show()"
   ]
  },
  {
   "cell_type": "code",
   "execution_count": null,
   "id": "fe2fbb13-9bf2-4de3-9b9a-02d3d0133873",
   "metadata": {},
   "outputs": [],
   "source": [
    "### Plot WRF ###\n",
    "ax = WindroseAxes.from_ax()\n",
    "windrose_plot = ax.bar (wind_direction_wrf_at_station_m_0to360, wind_module_wrf_at_station_m, normed=True, opening=0.8, nsector=22, bins=np.arange(0,10,2), cmap=cm.jet, edgecolor=\"white\")\n",
    "\n",
    "#ax.set_legend(title_fontsize=14, fontsize=14, loc=\"upper left\", bbox_to_anchor=(1.05, 1))\n",
    "\n",
    "ax.legend(fontsize=14, loc=\"upper left\", bbox_to_anchor=(1.05, 1))\n",
    "\n",
    "r = np.arange(0, 16, 2)\n",
    "ax.tick_params(axis=\"x\", labelsize=14)\n",
    "ax.set_yticks(r)\n",
    "\n",
    "rrr = []\n",
    "#for el in r:\n",
    "#    rrr.append(\"{NUM}%\".format(NUM=el))\n",
    "#ax.set_yticklabels(rrr, fontsize=14)\n",
    "plt.title(str(town_name)+', WRF', fontsize=16)\n",
    "\n",
    "for i, r_value in enumerate(r):\n",
    "    ax.text(4.5*np.pi/4, r_value * 1.05, f\"{r_value}%\", horizontalalignment='center', verticalalignment='center', fontsize=14, color='black')\n",
    "\n",
    "plt.show()"
   ]
  },
  {
   "cell_type": "code",
   "execution_count": null,
   "id": "64c1f0c3-615c-4cf7-9ec5-615259407fea",
   "metadata": {},
   "outputs": [],
   "source": []
  },
  {
   "cell_type": "code",
   "execution_count": null,
   "id": "d75f3589-8b05-4917-82a9-e07cb0ebfbe0",
   "metadata": {},
   "outputs": [],
   "source": []
  },
  {
   "cell_type": "code",
   "execution_count": null,
   "id": "3d28b4a5-a3a0-4541-8437-37912e6b3c38",
   "metadata": {},
   "outputs": [],
   "source": []
  },
  {
   "cell_type": "code",
   "execution_count": null,
   "id": "f4f21a21-1082-4174-a729-deb92dc995d9",
   "metadata": {},
   "outputs": [],
   "source": []
  },
  {
   "cell_type": "code",
   "execution_count": null,
   "id": "36b20f79-f3f3-4b67-9bf7-007f8e956775",
   "metadata": {},
   "outputs": [],
   "source": []
  },
  {
   "cell_type": "code",
   "execution_count": null,
   "id": "1eca5ff6-d4b6-4a00-997c-fc131abddcbe",
   "metadata": {},
   "outputs": [],
   "source": [
    "wind_direction_wrf_at_station_m_0to360 = wind_direction_wrf_at_station_m + 180"
   ]
  },
  {
   "cell_type": "code",
   "execution_count": null,
   "id": "5161b572-a317-4fb7-a8b1-93c97242acaa",
   "metadata": {},
   "outputs": [],
   "source": [
    "np.unique(wind_direction_wrf_at_station_m)"
   ]
  },
  {
   "cell_type": "code",
   "execution_count": null,
   "id": "ec8ad6f4-3079-47d2-8e41-bc584535c098",
   "metadata": {},
   "outputs": [],
   "source": [
    "np.unique(wind_direction_wrf_at_station_m_0to360)"
   ]
  },
  {
   "cell_type": "code",
   "execution_count": null,
   "id": "bb6cff79-81b3-4676-817e-fb88660bf880",
   "metadata": {},
   "outputs": [],
   "source": []
  },
  {
   "cell_type": "code",
   "execution_count": null,
   "id": "45c4fe5d-354f-4f94-a810-bfae9cb2c804",
   "metadata": {},
   "outputs": [],
   "source": []
  },
  {
   "cell_type": "code",
   "execution_count": null,
   "id": "6b2dc8ad-f617-4475-838b-fa60575381e6",
   "metadata": {},
   "outputs": [],
   "source": []
  },
  {
   "cell_type": "code",
   "execution_count": null,
   "id": "4e3b5a96-c359-4bc5-8712-4cc32a4d85c9",
   "metadata": {},
   "outputs": [],
   "source": [
    "### Extras #####"
   ]
  },
  {
   "cell_type": "code",
   "execution_count": null,
   "id": "075cad68-a6a6-4c17-af74-75957328b742",
   "metadata": {},
   "outputs": [],
   "source": [
    "wind_speed_wrf_extr = ds_wrf_vn.variables['vn'][:,:,:]"
   ]
  },
  {
   "cell_type": "code",
   "execution_count": null,
   "id": "3d3ee573-42c1-4106-adba-0e295531f01c",
   "metadata": {},
   "outputs": [],
   "source": [
    "wind_direction_wrf_extr = ds_wrf_vdir.variables['vdir'][:,:,:]"
   ]
  },
  {
   "cell_type": "code",
   "execution_count": null,
   "id": "85ae5798-6b4d-42ae-9be8-708a1c038695",
   "metadata": {},
   "outputs": [],
   "source": [
    "# UPLOADING ERA5LAND DATA\n",
    "\n",
    "path_era5land = base_path+'/DATA_WIND_HOURLY_ERA5LAND/ERA5-LAND_2019_2023_hourly_wind_data.nc'\n",
    "ds_era5land = nc.Dataset(path_era5land, 'r')\n"
   ]
  },
  {
   "cell_type": "code",
   "execution_count": null,
   "id": "2173b88e-12ae-4f39-adfe-a910cc9191bb",
   "metadata": {},
   "outputs": [],
   "source": []
  },
  {
   "cell_type": "code",
   "execution_count": 7,
   "id": "ed8ac78d-6b91-47ee-bea4-b82c6d409baf",
   "metadata": {},
   "outputs": [
    {
     "data": {
      "text/plain": [
       "44982"
      ]
     },
     "execution_count": 7,
     "metadata": {},
     "output_type": "execute_result"
    }
   ],
   "source": [
    "len(data_station_direction)"
   ]
  },
  {
   "cell_type": "code",
   "execution_count": null,
   "id": "eff0b0a2-c4e7-4dcd-9bcd-1625a5b549c2",
   "metadata": {},
   "outputs": [],
   "source": []
  }
 ],
 "metadata": {
  "kernelspec": {
   "display_name": "PYTHON_VR_3.9",
   "language": "python",
   "name": "python_vr_3.9"
  },
  "language_info": {
   "codemirror_mode": {
    "name": "ipython",
    "version": 3
   },
   "file_extension": ".py",
   "mimetype": "text/x-python",
   "name": "python",
   "nbconvert_exporter": "python",
   "pygments_lexer": "ipython3",
   "version": "3.9.18"
  }
 },
 "nbformat": 4,
 "nbformat_minor": 5
}
